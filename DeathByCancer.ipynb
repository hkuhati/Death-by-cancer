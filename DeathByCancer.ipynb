{
 "cells": [
  {
   "cell_type": "markdown",
   "id": "9379b1c6",
   "metadata": {},
   "source": [
    "### Data Exploration\n",
    "\n",
    "The read function is used to load the csv data with column heads present."
   ]
  },
  {
   "cell_type": "code",
   "execution_count": 4,
   "id": "e9dc2c53",
   "metadata": {},
   "outputs": [
    {
     "data": {
      "text/html": [
       "<ol class=list-inline>\n",
       "\t<li>'State'</li>\n",
       "\t<li>'Total.Rate'</li>\n",
       "\t<li>'Total.Number'</li>\n",
       "\t<li>'Total.Population'</li>\n",
       "\t<li>'Rates.Age...18'</li>\n",
       "\t<li>'Rates.Age.18.45'</li>\n",
       "\t<li>'Rates.Age.45.64'</li>\n",
       "\t<li>'Rates.Age...64'</li>\n",
       "\t<li>'Rates.Age.and.Sex...18.Female'</li>\n",
       "\t<li>'Rates.Age.and.Sex...18.Male'</li>\n",
       "\t<li>'Rates.Age.and.Sex.18...45.Female'</li>\n",
       "\t<li>'Rates.Age.and.Sex.18...45.Male'</li>\n",
       "\t<li>'Rates.Age.and.Sex.45...64.Female'</li>\n",
       "\t<li>'Rates.Age.and.Sex.45...64.Male'</li>\n",
       "\t<li>'Rates.Age.and.Sex...64.Female'</li>\n",
       "\t<li>'Rates.Age.and.Sex...64.Male'</li>\n",
       "\t<li>'Rates.Race.White'</li>\n",
       "\t<li>'Rates.Race.White.non.Hispanic'</li>\n",
       "\t<li>'Rates.Race.Black'</li>\n",
       "\t<li>'Rates.Race.Asian'</li>\n",
       "\t<li>'Rates.Race.Indigenous'</li>\n",
       "\t<li>'Rates.Race.and.Sex.Female.White'</li>\n",
       "\t<li>'Rates.Race.and.Sex.Female.White.non.Hispanic'</li>\n",
       "\t<li>'Rates.Race.and.Sex.Female.Black'</li>\n",
       "\t<li>'Rates.Race.and.Sex.Female.Black.non.Hispanic'</li>\n",
       "\t<li>'Rates.Race.and.Sex.Female.Asian'</li>\n",
       "\t<li>'Rates.Race.and.Sex.Female.Indigenous'</li>\n",
       "\t<li>'Rates.Race.and.Sex.Male.White'</li>\n",
       "\t<li>'Rates.Race.and.Sex.Male.White.non.Hispanic'</li>\n",
       "\t<li>'Rates.Race.and.Sex.Male.Black'</li>\n",
       "\t<li>'Rates.Race.and.Sex.Male.Black.non.Hispanic'</li>\n",
       "\t<li>'Rates.Race.and.Sex.Male.Asian'</li>\n",
       "\t<li>'Rates.Race.and.Sex.Male.Indigenous'</li>\n",
       "\t<li>'Rates.Race.Hispanic'</li>\n",
       "\t<li>'Rates.Race.and.Sex.Female.Hispanic'</li>\n",
       "\t<li>'Rates.Race.and.Sex.Male.Hispanic'</li>\n",
       "\t<li>'Types.Breast.Total'</li>\n",
       "\t<li>'Types.Breast.Age.18...44'</li>\n",
       "\t<li>'Types.Breast.Age.45...64'</li>\n",
       "\t<li>'Types.Breast.Age...64'</li>\n",
       "\t<li>'Types.Breast.Race.White'</li>\n",
       "\t<li>'Types.Breast.Race.White.non.Hispanic'</li>\n",
       "\t<li>'Types.Breast.Race.Black'</li>\n",
       "\t<li>'Types.Breast.Race.Black.non.Hispanic'</li>\n",
       "\t<li>'Types.Breast.Race.Asian'</li>\n",
       "\t<li>'Types.Breast.Race.Indigenous'</li>\n",
       "\t<li>'Types.Breast.Race.Hispanic'</li>\n",
       "\t<li>'Types.Colorectal.Total'</li>\n",
       "\t<li>'Types.Colorectal.Age.and.Sex.Female.18...44'</li>\n",
       "\t<li>'Types.Colorectal.Age.and.Sex.Male.18...44'</li>\n",
       "\t<li>'Types.Colorectal.Age.and.Sex.Female.45...64'</li>\n",
       "\t<li>'Types.Colorectal.Age.and.Sex.Male.45...64'</li>\n",
       "\t<li>'Types.Colorectal.Age.and.Sex.Female...64'</li>\n",
       "\t<li>'Types.Colorectal.Age.and.Sex.Male...64'</li>\n",
       "\t<li>'Types.Colorectal.Race.White'</li>\n",
       "\t<li>'Types.Colorectal.Race.White.non.Hispanic'</li>\n",
       "\t<li>'Types.Colorectal.Race.Black'</li>\n",
       "\t<li>'Types.Colorectal.Race.Black.non.Hispanic'</li>\n",
       "\t<li>'Types.Colorectal.Race.Asian'</li>\n",
       "\t<li>'Types.Colorectal.Race.Indigenous'</li>\n",
       "\t<li>'Types.Colorectal.Race.Hispanic'</li>\n",
       "\t<li>'Types.Lung.Total'</li>\n",
       "\t<li>'Types.Lung.Age.and.Sex.Female.18...44'</li>\n",
       "\t<li>'Types.Lung.Age.and.Sex.Male.18...44'</li>\n",
       "\t<li>'Types.Lung.Age.and.Sex.Female.45...64'</li>\n",
       "\t<li>'Types.Lung.Age.and.Sex.Male.45...64'</li>\n",
       "\t<li>'Types.Lung.Age.and.Sex.Female...64'</li>\n",
       "\t<li>'Types.Lung.Age.and.Sex.Male...64'</li>\n",
       "\t<li>'Types.Lung.Race.White'</li>\n",
       "\t<li>'Types.Lung.Race.White.non.Hispanic'</li>\n",
       "\t<li>'Types.Lung.Race.Black'</li>\n",
       "\t<li>'Types.Lung.Race.Black.non.Hispanic'</li>\n",
       "\t<li>'Types.Lung.Race.Asian'</li>\n",
       "\t<li>'Types.Lung.Race.Indigenous'</li>\n",
       "\t<li>'Types.Lung.Race.Hispanic'</li>\n",
       "\t<li>'totalfdr'</li>\n",
       "</ol>\n"
      ],
      "text/latex": [
       "\\begin{enumerate*}\n",
       "\\item 'State'\n",
       "\\item 'Total.Rate'\n",
       "\\item 'Total.Number'\n",
       "\\item 'Total.Population'\n",
       "\\item 'Rates.Age...18'\n",
       "\\item 'Rates.Age.18.45'\n",
       "\\item 'Rates.Age.45.64'\n",
       "\\item 'Rates.Age...64'\n",
       "\\item 'Rates.Age.and.Sex...18.Female'\n",
       "\\item 'Rates.Age.and.Sex...18.Male'\n",
       "\\item 'Rates.Age.and.Sex.18...45.Female'\n",
       "\\item 'Rates.Age.and.Sex.18...45.Male'\n",
       "\\item 'Rates.Age.and.Sex.45...64.Female'\n",
       "\\item 'Rates.Age.and.Sex.45...64.Male'\n",
       "\\item 'Rates.Age.and.Sex...64.Female'\n",
       "\\item 'Rates.Age.and.Sex...64.Male'\n",
       "\\item 'Rates.Race.White'\n",
       "\\item 'Rates.Race.White.non.Hispanic'\n",
       "\\item 'Rates.Race.Black'\n",
       "\\item 'Rates.Race.Asian'\n",
       "\\item 'Rates.Race.Indigenous'\n",
       "\\item 'Rates.Race.and.Sex.Female.White'\n",
       "\\item 'Rates.Race.and.Sex.Female.White.non.Hispanic'\n",
       "\\item 'Rates.Race.and.Sex.Female.Black'\n",
       "\\item 'Rates.Race.and.Sex.Female.Black.non.Hispanic'\n",
       "\\item 'Rates.Race.and.Sex.Female.Asian'\n",
       "\\item 'Rates.Race.and.Sex.Female.Indigenous'\n",
       "\\item 'Rates.Race.and.Sex.Male.White'\n",
       "\\item 'Rates.Race.and.Sex.Male.White.non.Hispanic'\n",
       "\\item 'Rates.Race.and.Sex.Male.Black'\n",
       "\\item 'Rates.Race.and.Sex.Male.Black.non.Hispanic'\n",
       "\\item 'Rates.Race.and.Sex.Male.Asian'\n",
       "\\item 'Rates.Race.and.Sex.Male.Indigenous'\n",
       "\\item 'Rates.Race.Hispanic'\n",
       "\\item 'Rates.Race.and.Sex.Female.Hispanic'\n",
       "\\item 'Rates.Race.and.Sex.Male.Hispanic'\n",
       "\\item 'Types.Breast.Total'\n",
       "\\item 'Types.Breast.Age.18...44'\n",
       "\\item 'Types.Breast.Age.45...64'\n",
       "\\item 'Types.Breast.Age...64'\n",
       "\\item 'Types.Breast.Race.White'\n",
       "\\item 'Types.Breast.Race.White.non.Hispanic'\n",
       "\\item 'Types.Breast.Race.Black'\n",
       "\\item 'Types.Breast.Race.Black.non.Hispanic'\n",
       "\\item 'Types.Breast.Race.Asian'\n",
       "\\item 'Types.Breast.Race.Indigenous'\n",
       "\\item 'Types.Breast.Race.Hispanic'\n",
       "\\item 'Types.Colorectal.Total'\n",
       "\\item 'Types.Colorectal.Age.and.Sex.Female.18...44'\n",
       "\\item 'Types.Colorectal.Age.and.Sex.Male.18...44'\n",
       "\\item 'Types.Colorectal.Age.and.Sex.Female.45...64'\n",
       "\\item 'Types.Colorectal.Age.and.Sex.Male.45...64'\n",
       "\\item 'Types.Colorectal.Age.and.Sex.Female...64'\n",
       "\\item 'Types.Colorectal.Age.and.Sex.Male...64'\n",
       "\\item 'Types.Colorectal.Race.White'\n",
       "\\item 'Types.Colorectal.Race.White.non.Hispanic'\n",
       "\\item 'Types.Colorectal.Race.Black'\n",
       "\\item 'Types.Colorectal.Race.Black.non.Hispanic'\n",
       "\\item 'Types.Colorectal.Race.Asian'\n",
       "\\item 'Types.Colorectal.Race.Indigenous'\n",
       "\\item 'Types.Colorectal.Race.Hispanic'\n",
       "\\item 'Types.Lung.Total'\n",
       "\\item 'Types.Lung.Age.and.Sex.Female.18...44'\n",
       "\\item 'Types.Lung.Age.and.Sex.Male.18...44'\n",
       "\\item 'Types.Lung.Age.and.Sex.Female.45...64'\n",
       "\\item 'Types.Lung.Age.and.Sex.Male.45...64'\n",
       "\\item 'Types.Lung.Age.and.Sex.Female...64'\n",
       "\\item 'Types.Lung.Age.and.Sex.Male...64'\n",
       "\\item 'Types.Lung.Race.White'\n",
       "\\item 'Types.Lung.Race.White.non.Hispanic'\n",
       "\\item 'Types.Lung.Race.Black'\n",
       "\\item 'Types.Lung.Race.Black.non.Hispanic'\n",
       "\\item 'Types.Lung.Race.Asian'\n",
       "\\item 'Types.Lung.Race.Indigenous'\n",
       "\\item 'Types.Lung.Race.Hispanic'\n",
       "\\item 'totalfdr'\n",
       "\\end{enumerate*}\n"
      ],
      "text/markdown": [
       "1. 'State'\n",
       "2. 'Total.Rate'\n",
       "3. 'Total.Number'\n",
       "4. 'Total.Population'\n",
       "5. 'Rates.Age...18'\n",
       "6. 'Rates.Age.18.45'\n",
       "7. 'Rates.Age.45.64'\n",
       "8. 'Rates.Age...64'\n",
       "9. 'Rates.Age.and.Sex...18.Female'\n",
       "10. 'Rates.Age.and.Sex...18.Male'\n",
       "11. 'Rates.Age.and.Sex.18...45.Female'\n",
       "12. 'Rates.Age.and.Sex.18...45.Male'\n",
       "13. 'Rates.Age.and.Sex.45...64.Female'\n",
       "14. 'Rates.Age.and.Sex.45...64.Male'\n",
       "15. 'Rates.Age.and.Sex...64.Female'\n",
       "16. 'Rates.Age.and.Sex...64.Male'\n",
       "17. 'Rates.Race.White'\n",
       "18. 'Rates.Race.White.non.Hispanic'\n",
       "19. 'Rates.Race.Black'\n",
       "20. 'Rates.Race.Asian'\n",
       "21. 'Rates.Race.Indigenous'\n",
       "22. 'Rates.Race.and.Sex.Female.White'\n",
       "23. 'Rates.Race.and.Sex.Female.White.non.Hispanic'\n",
       "24. 'Rates.Race.and.Sex.Female.Black'\n",
       "25. 'Rates.Race.and.Sex.Female.Black.non.Hispanic'\n",
       "26. 'Rates.Race.and.Sex.Female.Asian'\n",
       "27. 'Rates.Race.and.Sex.Female.Indigenous'\n",
       "28. 'Rates.Race.and.Sex.Male.White'\n",
       "29. 'Rates.Race.and.Sex.Male.White.non.Hispanic'\n",
       "30. 'Rates.Race.and.Sex.Male.Black'\n",
       "31. 'Rates.Race.and.Sex.Male.Black.non.Hispanic'\n",
       "32. 'Rates.Race.and.Sex.Male.Asian'\n",
       "33. 'Rates.Race.and.Sex.Male.Indigenous'\n",
       "34. 'Rates.Race.Hispanic'\n",
       "35. 'Rates.Race.and.Sex.Female.Hispanic'\n",
       "36. 'Rates.Race.and.Sex.Male.Hispanic'\n",
       "37. 'Types.Breast.Total'\n",
       "38. 'Types.Breast.Age.18...44'\n",
       "39. 'Types.Breast.Age.45...64'\n",
       "40. 'Types.Breast.Age...64'\n",
       "41. 'Types.Breast.Race.White'\n",
       "42. 'Types.Breast.Race.White.non.Hispanic'\n",
       "43. 'Types.Breast.Race.Black'\n",
       "44. 'Types.Breast.Race.Black.non.Hispanic'\n",
       "45. 'Types.Breast.Race.Asian'\n",
       "46. 'Types.Breast.Race.Indigenous'\n",
       "47. 'Types.Breast.Race.Hispanic'\n",
       "48. 'Types.Colorectal.Total'\n",
       "49. 'Types.Colorectal.Age.and.Sex.Female.18...44'\n",
       "50. 'Types.Colorectal.Age.and.Sex.Male.18...44'\n",
       "51. 'Types.Colorectal.Age.and.Sex.Female.45...64'\n",
       "52. 'Types.Colorectal.Age.and.Sex.Male.45...64'\n",
       "53. 'Types.Colorectal.Age.and.Sex.Female...64'\n",
       "54. 'Types.Colorectal.Age.and.Sex.Male...64'\n",
       "55. 'Types.Colorectal.Race.White'\n",
       "56. 'Types.Colorectal.Race.White.non.Hispanic'\n",
       "57. 'Types.Colorectal.Race.Black'\n",
       "58. 'Types.Colorectal.Race.Black.non.Hispanic'\n",
       "59. 'Types.Colorectal.Race.Asian'\n",
       "60. 'Types.Colorectal.Race.Indigenous'\n",
       "61. 'Types.Colorectal.Race.Hispanic'\n",
       "62. 'Types.Lung.Total'\n",
       "63. 'Types.Lung.Age.and.Sex.Female.18...44'\n",
       "64. 'Types.Lung.Age.and.Sex.Male.18...44'\n",
       "65. 'Types.Lung.Age.and.Sex.Female.45...64'\n",
       "66. 'Types.Lung.Age.and.Sex.Male.45...64'\n",
       "67. 'Types.Lung.Age.and.Sex.Female...64'\n",
       "68. 'Types.Lung.Age.and.Sex.Male...64'\n",
       "69. 'Types.Lung.Race.White'\n",
       "70. 'Types.Lung.Race.White.non.Hispanic'\n",
       "71. 'Types.Lung.Race.Black'\n",
       "72. 'Types.Lung.Race.Black.non.Hispanic'\n",
       "73. 'Types.Lung.Race.Asian'\n",
       "74. 'Types.Lung.Race.Indigenous'\n",
       "75. 'Types.Lung.Race.Hispanic'\n",
       "76. 'totalfdr'\n",
       "\n",
       "\n"
      ],
      "text/plain": [
       " [1] \"State\"                                       \n",
       " [2] \"Total.Rate\"                                  \n",
       " [3] \"Total.Number\"                                \n",
       " [4] \"Total.Population\"                            \n",
       " [5] \"Rates.Age...18\"                              \n",
       " [6] \"Rates.Age.18.45\"                             \n",
       " [7] \"Rates.Age.45.64\"                             \n",
       " [8] \"Rates.Age...64\"                              \n",
       " [9] \"Rates.Age.and.Sex...18.Female\"               \n",
       "[10] \"Rates.Age.and.Sex...18.Male\"                 \n",
       "[11] \"Rates.Age.and.Sex.18...45.Female\"            \n",
       "[12] \"Rates.Age.and.Sex.18...45.Male\"              \n",
       "[13] \"Rates.Age.and.Sex.45...64.Female\"            \n",
       "[14] \"Rates.Age.and.Sex.45...64.Male\"              \n",
       "[15] \"Rates.Age.and.Sex...64.Female\"               \n",
       "[16] \"Rates.Age.and.Sex...64.Male\"                 \n",
       "[17] \"Rates.Race.White\"                            \n",
       "[18] \"Rates.Race.White.non.Hispanic\"               \n",
       "[19] \"Rates.Race.Black\"                            \n",
       "[20] \"Rates.Race.Asian\"                            \n",
       "[21] \"Rates.Race.Indigenous\"                       \n",
       "[22] \"Rates.Race.and.Sex.Female.White\"             \n",
       "[23] \"Rates.Race.and.Sex.Female.White.non.Hispanic\"\n",
       "[24] \"Rates.Race.and.Sex.Female.Black\"             \n",
       "[25] \"Rates.Race.and.Sex.Female.Black.non.Hispanic\"\n",
       "[26] \"Rates.Race.and.Sex.Female.Asian\"             \n",
       "[27] \"Rates.Race.and.Sex.Female.Indigenous\"        \n",
       "[28] \"Rates.Race.and.Sex.Male.White\"               \n",
       "[29] \"Rates.Race.and.Sex.Male.White.non.Hispanic\"  \n",
       "[30] \"Rates.Race.and.Sex.Male.Black\"               \n",
       "[31] \"Rates.Race.and.Sex.Male.Black.non.Hispanic\"  \n",
       "[32] \"Rates.Race.and.Sex.Male.Asian\"               \n",
       "[33] \"Rates.Race.and.Sex.Male.Indigenous\"          \n",
       "[34] \"Rates.Race.Hispanic\"                         \n",
       "[35] \"Rates.Race.and.Sex.Female.Hispanic\"          \n",
       "[36] \"Rates.Race.and.Sex.Male.Hispanic\"            \n",
       "[37] \"Types.Breast.Total\"                          \n",
       "[38] \"Types.Breast.Age.18...44\"                    \n",
       "[39] \"Types.Breast.Age.45...64\"                    \n",
       "[40] \"Types.Breast.Age...64\"                       \n",
       "[41] \"Types.Breast.Race.White\"                     \n",
       "[42] \"Types.Breast.Race.White.non.Hispanic\"        \n",
       "[43] \"Types.Breast.Race.Black\"                     \n",
       "[44] \"Types.Breast.Race.Black.non.Hispanic\"        \n",
       "[45] \"Types.Breast.Race.Asian\"                     \n",
       "[46] \"Types.Breast.Race.Indigenous\"                \n",
       "[47] \"Types.Breast.Race.Hispanic\"                  \n",
       "[48] \"Types.Colorectal.Total\"                      \n",
       "[49] \"Types.Colorectal.Age.and.Sex.Female.18...44\" \n",
       "[50] \"Types.Colorectal.Age.and.Sex.Male.18...44\"   \n",
       "[51] \"Types.Colorectal.Age.and.Sex.Female.45...64\" \n",
       "[52] \"Types.Colorectal.Age.and.Sex.Male.45...64\"   \n",
       "[53] \"Types.Colorectal.Age.and.Sex.Female...64\"    \n",
       "[54] \"Types.Colorectal.Age.and.Sex.Male...64\"      \n",
       "[55] \"Types.Colorectal.Race.White\"                 \n",
       "[56] \"Types.Colorectal.Race.White.non.Hispanic\"    \n",
       "[57] \"Types.Colorectal.Race.Black\"                 \n",
       "[58] \"Types.Colorectal.Race.Black.non.Hispanic\"    \n",
       "[59] \"Types.Colorectal.Race.Asian\"                 \n",
       "[60] \"Types.Colorectal.Race.Indigenous\"            \n",
       "[61] \"Types.Colorectal.Race.Hispanic\"              \n",
       "[62] \"Types.Lung.Total\"                            \n",
       "[63] \"Types.Lung.Age.and.Sex.Female.18...44\"       \n",
       "[64] \"Types.Lung.Age.and.Sex.Male.18...44\"         \n",
       "[65] \"Types.Lung.Age.and.Sex.Female.45...64\"       \n",
       "[66] \"Types.Lung.Age.and.Sex.Male.45...64\"         \n",
       "[67] \"Types.Lung.Age.and.Sex.Female...64\"          \n",
       "[68] \"Types.Lung.Age.and.Sex.Male...64\"            \n",
       "[69] \"Types.Lung.Race.White\"                       \n",
       "[70] \"Types.Lung.Race.White.non.Hispanic\"          \n",
       "[71] \"Types.Lung.Race.Black\"                       \n",
       "[72] \"Types.Lung.Race.Black.non.Hispanic\"          \n",
       "[73] \"Types.Lung.Race.Asian\"                       \n",
       "[74] \"Types.Lung.Race.Indigenous\"                  \n",
       "[75] \"Types.Lung.Race.Hispanic\"                    \n",
       "[76] \"totalfdr\"                                    "
      ]
     },
     "metadata": {},
     "output_type": "display_data"
    }
   ],
   "source": [
    "cnr <- read.csv(\"C:\\\\Users\\\\HEENA\\\\Desktop\\\\UOP\\\\Analytical Computing (F-21)\\\\cancer.csv\")\n",
    "ss1 <- data.frame(cnr)\n",
    "ss1$totalfdr <- cnr$Rates.Age.and.Sex...18.Female + cnr$Rates.Age.and.Sex.18...45.Female + cnr$Rates.Age.and.Sex.45...64.Female\n",
    "names(ss1)"
   ]
  },
  {
   "cell_type": "markdown",
   "id": "14a61dd3",
   "metadata": {},
   "source": [
    "### Data Cleaning\n",
    "\n",
    "Removed certain columns which are not needed for further analysis."
   ]
  },
  {
   "cell_type": "code",
   "execution_count": 5,
   "id": "66a1c61e",
   "metadata": {},
   "outputs": [
    {
     "data": {
      "text/html": [
       "<ol class=list-inline>\n",
       "\t<li>'State'</li>\n",
       "\t<li>'Total.Rate'</li>\n",
       "\t<li>'Total.Number'</li>\n",
       "\t<li>'Total.Population'</li>\n",
       "\t<li>'Rates.Age...18'</li>\n",
       "\t<li>'Rates.Age.18.45'</li>\n",
       "\t<li>'Rates.Age.45.64'</li>\n",
       "\t<li>'Rates.Age...64'</li>\n",
       "\t<li>'Rates.Age.and.Sex...18.Female'</li>\n",
       "\t<li>'Rates.Age.and.Sex...18.Male'</li>\n",
       "\t<li>'Rates.Age.and.Sex.18...45.Female'</li>\n",
       "\t<li>'Rates.Age.and.Sex.18...45.Male'</li>\n",
       "\t<li>'Rates.Age.and.Sex.45...64.Female'</li>\n",
       "\t<li>'Rates.Age.and.Sex.45...64.Male'</li>\n",
       "\t<li>'Rates.Age.and.Sex...64.Female'</li>\n",
       "\t<li>'Rates.Age.and.Sex...64.Male'</li>\n",
       "\t<li>'Rates.Race.White'</li>\n",
       "\t<li>'Rates.Race.White.non.Hispanic'</li>\n",
       "\t<li>'Rates.Race.Black'</li>\n",
       "\t<li>'Rates.Race.Asian'</li>\n",
       "\t<li>'Rates.Race.Indigenous'</li>\n",
       "\t<li>'Rates.Race.and.Sex.Female.White'</li>\n",
       "\t<li>'Rates.Race.and.Sex.Female.White.non.Hispanic'</li>\n",
       "\t<li>'Rates.Race.and.Sex.Female.Black'</li>\n",
       "\t<li>'Rates.Race.and.Sex.Female.Black.non.Hispanic'</li>\n",
       "\t<li>'Rates.Race.and.Sex.Female.Asian'</li>\n",
       "\t<li>'Rates.Race.and.Sex.Female.Indigenous'</li>\n",
       "\t<li>'Rates.Race.and.Sex.Male.White'</li>\n",
       "\t<li>'Rates.Race.and.Sex.Male.White.non.Hispanic'</li>\n",
       "\t<li>'Rates.Race.and.Sex.Male.Black'</li>\n",
       "\t<li>'Rates.Race.and.Sex.Male.Black.non.Hispanic'</li>\n",
       "\t<li>'Rates.Race.and.Sex.Male.Asian'</li>\n",
       "\t<li>'Rates.Race.and.Sex.Male.Indigenous'</li>\n",
       "\t<li>'Rates.Race.Hispanic'</li>\n",
       "\t<li>'Rates.Race.and.Sex.Female.Hispanic'</li>\n",
       "\t<li>'Rates.Race.and.Sex.Male.Hispanic'</li>\n",
       "\t<li>'Types.Breast.Total'</li>\n",
       "\t<li>'Types.Colorectal.Total'</li>\n",
       "\t<li>'Types.Lung.Total'</li>\n",
       "\t<li>'totalfdr'</li>\n",
       "</ol>\n"
      ],
      "text/latex": [
       "\\begin{enumerate*}\n",
       "\\item 'State'\n",
       "\\item 'Total.Rate'\n",
       "\\item 'Total.Number'\n",
       "\\item 'Total.Population'\n",
       "\\item 'Rates.Age...18'\n",
       "\\item 'Rates.Age.18.45'\n",
       "\\item 'Rates.Age.45.64'\n",
       "\\item 'Rates.Age...64'\n",
       "\\item 'Rates.Age.and.Sex...18.Female'\n",
       "\\item 'Rates.Age.and.Sex...18.Male'\n",
       "\\item 'Rates.Age.and.Sex.18...45.Female'\n",
       "\\item 'Rates.Age.and.Sex.18...45.Male'\n",
       "\\item 'Rates.Age.and.Sex.45...64.Female'\n",
       "\\item 'Rates.Age.and.Sex.45...64.Male'\n",
       "\\item 'Rates.Age.and.Sex...64.Female'\n",
       "\\item 'Rates.Age.and.Sex...64.Male'\n",
       "\\item 'Rates.Race.White'\n",
       "\\item 'Rates.Race.White.non.Hispanic'\n",
       "\\item 'Rates.Race.Black'\n",
       "\\item 'Rates.Race.Asian'\n",
       "\\item 'Rates.Race.Indigenous'\n",
       "\\item 'Rates.Race.and.Sex.Female.White'\n",
       "\\item 'Rates.Race.and.Sex.Female.White.non.Hispanic'\n",
       "\\item 'Rates.Race.and.Sex.Female.Black'\n",
       "\\item 'Rates.Race.and.Sex.Female.Black.non.Hispanic'\n",
       "\\item 'Rates.Race.and.Sex.Female.Asian'\n",
       "\\item 'Rates.Race.and.Sex.Female.Indigenous'\n",
       "\\item 'Rates.Race.and.Sex.Male.White'\n",
       "\\item 'Rates.Race.and.Sex.Male.White.non.Hispanic'\n",
       "\\item 'Rates.Race.and.Sex.Male.Black'\n",
       "\\item 'Rates.Race.and.Sex.Male.Black.non.Hispanic'\n",
       "\\item 'Rates.Race.and.Sex.Male.Asian'\n",
       "\\item 'Rates.Race.and.Sex.Male.Indigenous'\n",
       "\\item 'Rates.Race.Hispanic'\n",
       "\\item 'Rates.Race.and.Sex.Female.Hispanic'\n",
       "\\item 'Rates.Race.and.Sex.Male.Hispanic'\n",
       "\\item 'Types.Breast.Total'\n",
       "\\item 'Types.Colorectal.Total'\n",
       "\\item 'Types.Lung.Total'\n",
       "\\item 'totalfdr'\n",
       "\\end{enumerate*}\n"
      ],
      "text/markdown": [
       "1. 'State'\n",
       "2. 'Total.Rate'\n",
       "3. 'Total.Number'\n",
       "4. 'Total.Population'\n",
       "5. 'Rates.Age...18'\n",
       "6. 'Rates.Age.18.45'\n",
       "7. 'Rates.Age.45.64'\n",
       "8. 'Rates.Age...64'\n",
       "9. 'Rates.Age.and.Sex...18.Female'\n",
       "10. 'Rates.Age.and.Sex...18.Male'\n",
       "11. 'Rates.Age.and.Sex.18...45.Female'\n",
       "12. 'Rates.Age.and.Sex.18...45.Male'\n",
       "13. 'Rates.Age.and.Sex.45...64.Female'\n",
       "14. 'Rates.Age.and.Sex.45...64.Male'\n",
       "15. 'Rates.Age.and.Sex...64.Female'\n",
       "16. 'Rates.Age.and.Sex...64.Male'\n",
       "17. 'Rates.Race.White'\n",
       "18. 'Rates.Race.White.non.Hispanic'\n",
       "19. 'Rates.Race.Black'\n",
       "20. 'Rates.Race.Asian'\n",
       "21. 'Rates.Race.Indigenous'\n",
       "22. 'Rates.Race.and.Sex.Female.White'\n",
       "23. 'Rates.Race.and.Sex.Female.White.non.Hispanic'\n",
       "24. 'Rates.Race.and.Sex.Female.Black'\n",
       "25. 'Rates.Race.and.Sex.Female.Black.non.Hispanic'\n",
       "26. 'Rates.Race.and.Sex.Female.Asian'\n",
       "27. 'Rates.Race.and.Sex.Female.Indigenous'\n",
       "28. 'Rates.Race.and.Sex.Male.White'\n",
       "29. 'Rates.Race.and.Sex.Male.White.non.Hispanic'\n",
       "30. 'Rates.Race.and.Sex.Male.Black'\n",
       "31. 'Rates.Race.and.Sex.Male.Black.non.Hispanic'\n",
       "32. 'Rates.Race.and.Sex.Male.Asian'\n",
       "33. 'Rates.Race.and.Sex.Male.Indigenous'\n",
       "34. 'Rates.Race.Hispanic'\n",
       "35. 'Rates.Race.and.Sex.Female.Hispanic'\n",
       "36. 'Rates.Race.and.Sex.Male.Hispanic'\n",
       "37. 'Types.Breast.Total'\n",
       "38. 'Types.Colorectal.Total'\n",
       "39. 'Types.Lung.Total'\n",
       "40. 'totalfdr'\n",
       "\n",
       "\n"
      ],
      "text/plain": [
       " [1] \"State\"                                       \n",
       " [2] \"Total.Rate\"                                  \n",
       " [3] \"Total.Number\"                                \n",
       " [4] \"Total.Population\"                            \n",
       " [5] \"Rates.Age...18\"                              \n",
       " [6] \"Rates.Age.18.45\"                             \n",
       " [7] \"Rates.Age.45.64\"                             \n",
       " [8] \"Rates.Age...64\"                              \n",
       " [9] \"Rates.Age.and.Sex...18.Female\"               \n",
       "[10] \"Rates.Age.and.Sex...18.Male\"                 \n",
       "[11] \"Rates.Age.and.Sex.18...45.Female\"            \n",
       "[12] \"Rates.Age.and.Sex.18...45.Male\"              \n",
       "[13] \"Rates.Age.and.Sex.45...64.Female\"            \n",
       "[14] \"Rates.Age.and.Sex.45...64.Male\"              \n",
       "[15] \"Rates.Age.and.Sex...64.Female\"               \n",
       "[16] \"Rates.Age.and.Sex...64.Male\"                 \n",
       "[17] \"Rates.Race.White\"                            \n",
       "[18] \"Rates.Race.White.non.Hispanic\"               \n",
       "[19] \"Rates.Race.Black\"                            \n",
       "[20] \"Rates.Race.Asian\"                            \n",
       "[21] \"Rates.Race.Indigenous\"                       \n",
       "[22] \"Rates.Race.and.Sex.Female.White\"             \n",
       "[23] \"Rates.Race.and.Sex.Female.White.non.Hispanic\"\n",
       "[24] \"Rates.Race.and.Sex.Female.Black\"             \n",
       "[25] \"Rates.Race.and.Sex.Female.Black.non.Hispanic\"\n",
       "[26] \"Rates.Race.and.Sex.Female.Asian\"             \n",
       "[27] \"Rates.Race.and.Sex.Female.Indigenous\"        \n",
       "[28] \"Rates.Race.and.Sex.Male.White\"               \n",
       "[29] \"Rates.Race.and.Sex.Male.White.non.Hispanic\"  \n",
       "[30] \"Rates.Race.and.Sex.Male.Black\"               \n",
       "[31] \"Rates.Race.and.Sex.Male.Black.non.Hispanic\"  \n",
       "[32] \"Rates.Race.and.Sex.Male.Asian\"               \n",
       "[33] \"Rates.Race.and.Sex.Male.Indigenous\"          \n",
       "[34] \"Rates.Race.Hispanic\"                         \n",
       "[35] \"Rates.Race.and.Sex.Female.Hispanic\"          \n",
       "[36] \"Rates.Race.and.Sex.Male.Hispanic\"            \n",
       "[37] \"Types.Breast.Total\"                          \n",
       "[38] \"Types.Colorectal.Total\"                      \n",
       "[39] \"Types.Lung.Total\"                            \n",
       "[40] \"totalfdr\"                                    "
      ]
     },
     "metadata": {},
     "output_type": "display_data"
    }
   ],
   "source": [
    "df = subset(ss1, select = -c(38:47,49:61,63:75) )\n",
    "names(df)"
   ]
  },
  {
   "cell_type": "markdown",
   "id": "198766ff",
   "metadata": {},
   "source": [
    "### Adaptation\n",
    "\n",
    "Created new dataframe for general category, one for each type of cancer to divide the dataset."
   ]
  },
  {
   "cell_type": "code",
   "execution_count": 7,
   "id": "258cc98d",
   "metadata": {},
   "outputs": [
    {
     "data": {
      "text/html": [
       "<table>\n",
       "<thead><tr><th scope=col>STATES</th><th scope=col>population</th><th scope=col>deathno</th><th scope=col>rate</th><th scope=col>sno</th></tr></thead>\n",
       "<tbody>\n",
       "\t<tr><td>Alabama   </td><td> 33387205 </td><td> 71529    </td><td>214.2     </td><td>1         </td></tr>\n",
       "\t<tr><td>Alaska    </td><td>  4966180 </td><td>  6361    </td><td>128.1     </td><td>2         </td></tr>\n",
       "\t<tr><td>Arizona   </td><td> 44845598 </td><td> 74286    </td><td>165.6     </td><td>3         </td></tr>\n",
       "\t<tr><td>Arkansas  </td><td> 20382448 </td><td> 45627    </td><td>223.9     </td><td>4         </td></tr>\n",
       "\t<tr><td>California</td><td>261135696 </td><td>393980    </td><td>150.9     </td><td>5         </td></tr>\n",
       "</tbody>\n",
       "</table>\n"
      ],
      "text/latex": [
       "\\begin{tabular}{r|lllll}\n",
       " STATES & population & deathno & rate & sno\\\\\n",
       "\\hline\n",
       "\t Alabama    &  33387205  &  71529     & 214.2      & 1         \\\\\n",
       "\t Alaska     &   4966180  &   6361     & 128.1      & 2         \\\\\n",
       "\t Arizona    &  44845598  &  74286     & 165.6      & 3         \\\\\n",
       "\t Arkansas   &  20382448  &  45627     & 223.9      & 4         \\\\\n",
       "\t California & 261135696  & 393980     & 150.9      & 5         \\\\\n",
       "\\end{tabular}\n"
      ],
      "text/markdown": [
       "\n",
       "| STATES | population | deathno | rate | sno |\n",
       "|---|---|---|---|---|\n",
       "| Alabama    |  33387205  |  71529     | 214.2      | 1          |\n",
       "| Alaska     |   4966180  |   6361     | 128.1      | 2          |\n",
       "| Arizona    |  44845598  |  74286     | 165.6      | 3          |\n",
       "| Arkansas   |  20382448  |  45627     | 223.9      | 4          |\n",
       "| California | 261135696  | 393980     | 150.9      | 5          |\n",
       "\n"
      ],
      "text/plain": [
       "  STATES     population deathno rate  sno\n",
       "1 Alabama     33387205   71529  214.2 1  \n",
       "2 Alaska       4966180    6361  128.1 2  \n",
       "3 Arizona     44845598   74286  165.6 3  \n",
       "4 Arkansas    20382448   45627  223.9 4  \n",
       "5 California 261135696  393980  150.9 5  "
      ]
     },
     "metadata": {},
     "output_type": "display_data"
    }
   ],
   "source": [
    "genral <- data.frame(STATES = cnr$State, population = cnr$Total.Population, deathno = cnr$Total.Number, rate = cnr$Total.Rate)\n",
    "genral$sno[1:51] = c(1:51)\n",
    "head(genral,5)"
   ]
  },
  {
   "cell_type": "code",
   "execution_count": 8,
   "id": "7c90ef6f",
   "metadata": {},
   "outputs": [
    {
     "data": {
      "text/html": [
       "<table>\n",
       "<thead><tr><th scope=col>snum</th><th scope=col>statename</th><th scope=col>population</th><th scope=col>numofdeaths</th><th scope=col>rate</th></tr></thead>\n",
       "<tbody>\n",
       "\t<tr><td> 1                  </td><td>Alabama             </td><td> 33387205           </td><td> 71529              </td><td>214.2               </td></tr>\n",
       "\t<tr><td> 2                  </td><td>Alaska              </td><td>  4966180           </td><td>  6361              </td><td>128.1               </td></tr>\n",
       "\t<tr><td> 3                  </td><td>Arizona             </td><td> 44845598           </td><td> 74286              </td><td>165.6               </td></tr>\n",
       "\t<tr><td> 4                  </td><td>Arkansas            </td><td> 20382448           </td><td> 45627              </td><td>223.9               </td></tr>\n",
       "\t<tr><td> 5                  </td><td>California          </td><td>261135696           </td><td>393980              </td><td>150.9               </td></tr>\n",
       "\t<tr><td> 6                  </td><td>Colorado            </td><td> 35267734           </td><td> 49035              </td><td>139.0               </td></tr>\n",
       "\t<tr><td> 7                  </td><td>Connecticut         </td><td> 24975889           </td><td> 47567              </td><td>190.5               </td></tr>\n",
       "\t<tr><td> 8                  </td><td>Delaware            </td><td>  6295263           </td><td> 13233              </td><td>210.2               </td></tr>\n",
       "\t<tr><td> 9                  </td><td>District of Columbia</td><td>  4245359           </td><td>  7730              </td><td>182.1               </td></tr>\n",
       "\t<tr><td>10                  </td><td>Florida             </td><td>132277071           </td><td>289905              </td><td>219.2               </td></tr>\n",
       "</tbody>\n",
       "</table>\n"
      ],
      "text/latex": [
       "\\begin{tabular}{r|lllll}\n",
       " snum & statename & population & numofdeaths & rate\\\\\n",
       "\\hline\n",
       "\t  1                   & Alabama              &  33387205            &  71529               & 214.2               \\\\\n",
       "\t  2                   & Alaska               &   4966180            &   6361               & 128.1               \\\\\n",
       "\t  3                   & Arizona              &  44845598            &  74286               & 165.6               \\\\\n",
       "\t  4                   & Arkansas             &  20382448            &  45627               & 223.9               \\\\\n",
       "\t  5                   & California           & 261135696            & 393980               & 150.9               \\\\\n",
       "\t  6                   & Colorado             &  35267734            &  49035               & 139.0               \\\\\n",
       "\t  7                   & Connecticut          &  24975889            &  47567               & 190.5               \\\\\n",
       "\t  8                   & Delaware             &   6295263            &  13233               & 210.2               \\\\\n",
       "\t  9                   & District of Columbia &   4245359            &   7730               & 182.1               \\\\\n",
       "\t 10                   & Florida              & 132277071            & 289905               & 219.2               \\\\\n",
       "\\end{tabular}\n"
      ],
      "text/markdown": [
       "\n",
       "| snum | statename | population | numofdeaths | rate |\n",
       "|---|---|---|---|---|\n",
       "|  1                   | Alabama              |  33387205            |  71529               | 214.2                |\n",
       "|  2                   | Alaska               |   4966180            |   6361               | 128.1                |\n",
       "|  3                   | Arizona              |  44845598            |  74286               | 165.6                |\n",
       "|  4                   | Arkansas             |  20382448            |  45627               | 223.9                |\n",
       "|  5                   | California           | 261135696            | 393980               | 150.9                |\n",
       "|  6                   | Colorado             |  35267734            |  49035               | 139.0                |\n",
       "|  7                   | Connecticut          |  24975889            |  47567               | 190.5                |\n",
       "|  8                   | Delaware             |   6295263            |  13233               | 210.2                |\n",
       "|  9                   | District of Columbia |   4245359            |   7730               | 182.1                |\n",
       "| 10                   | Florida              | 132277071            | 289905               | 219.2                |\n",
       "\n"
      ],
      "text/plain": [
       "   snum statename            population numofdeaths rate \n",
       "1   1   Alabama               33387205   71529      214.2\n",
       "2   2   Alaska                 4966180    6361      128.1\n",
       "3   3   Arizona               44845598   74286      165.6\n",
       "4   4   Arkansas              20382448   45627      223.9\n",
       "5   5   California           261135696  393980      150.9\n",
       "6   6   Colorado              35267734   49035      139.0\n",
       "7   7   Connecticut           24975889   47567      190.5\n",
       "8   8   Delaware               6295263   13233      210.2\n",
       "9   9   District of Columbia   4245359    7730      182.1\n",
       "10 10   Florida              132277071  289905      219.2"
      ]
     },
     "metadata": {},
     "output_type": "display_data"
    },
    {
     "data": {
      "image/png": "[encoded data removed]",
      "text/plain": [
       "Plot with title \"USA\""
      ]
     },
     "metadata": {},
     "output_type": "display_data"
    }
   ],
   "source": [
    "usa <- data.frame(snum = genral$sno, statename = cnr$State, population = cnr$Total.Population, numofdeaths = cnr$Total.Number, rate = cnr$Total.Rate)\n",
    "head(usa,10)\n",
    "barplot(t(as.matrix(usa$numofdeaths)), names.arg = usa$snum, xlab = \"States\", ylab = \"rate\", col = \"green\",main = \"USA\", border = \"black\")"
   ]
  },
  {
   "cell_type": "markdown",
   "id": "969282d3",
   "metadata": {},
   "source": [
    "The bar graph displays death rate in US. "
   ]
  },
  {
   "cell_type": "code",
   "execution_count": 9,
   "id": "ecdd9b04",
   "metadata": {},
   "outputs": [
    {
     "data": {
      "text/html": [
       "<table>\n",
       "<thead><tr><th scope=col>snum</th><th scope=col>statename</th><th scope=col>rate</th><th scope=col>tmr</th></tr></thead>\n",
       "<tbody>\n",
       "\t<tr><td> 1                  </td><td>Alabama             </td><td>214.2               </td><td>310.4               </td></tr>\n",
       "\t<tr><td> 2                  </td><td>Alaska              </td><td>128.1               </td><td>193.0               </td></tr>\n",
       "\t<tr><td> 3                  </td><td>Arizona             </td><td>165.6               </td><td>206.5               </td></tr>\n",
       "\t<tr><td> 4                  </td><td>Arkansas            </td><td>223.9               </td><td>307.9               </td></tr>\n",
       "\t<tr><td> 5                  </td><td>California          </td><td>150.9               </td><td>187.1               </td></tr>\n",
       "\t<tr><td> 6                  </td><td>Colorado            </td><td>139.0               </td><td>170.4               </td></tr>\n",
       "\t<tr><td> 7                  </td><td>Connecticut         </td><td>190.5               </td><td>189.3               </td></tr>\n",
       "\t<tr><td> 8                  </td><td>Delaware            </td><td>210.2               </td><td>256.3               </td></tr>\n",
       "\t<tr><td> 9                  </td><td>District of Columbia</td><td>182.1               </td><td>282.8               </td></tr>\n",
       "\t<tr><td>10                  </td><td>Florida             </td><td>219.2               </td><td>251.5               </td></tr>\n",
       "</tbody>\n",
       "</table>\n"
      ],
      "text/latex": [
       "\\begin{tabular}{r|llll}\n",
       " snum & statename & rate & tmr\\\\\n",
       "\\hline\n",
       "\t  1                   & Alabama              & 214.2                & 310.4               \\\\\n",
       "\t  2                   & Alaska               & 128.1                & 193.0               \\\\\n",
       "\t  3                   & Arizona              & 165.6                & 206.5               \\\\\n",
       "\t  4                   & Arkansas             & 223.9                & 307.9               \\\\\n",
       "\t  5                   & California           & 150.9                & 187.1               \\\\\n",
       "\t  6                   & Colorado             & 139.0                & 170.4               \\\\\n",
       "\t  7                   & Connecticut          & 190.5                & 189.3               \\\\\n",
       "\t  8                   & Delaware             & 210.2                & 256.3               \\\\\n",
       "\t  9                   & District of Columbia & 182.1                & 282.8               \\\\\n",
       "\t 10                   & Florida              & 219.2                & 251.5               \\\\\n",
       "\\end{tabular}\n"
      ],
      "text/markdown": [
       "\n",
       "| snum | statename | rate | tmr |\n",
       "|---|---|---|---|\n",
       "|  1                   | Alabama              | 214.2                | 310.4                |\n",
       "|  2                   | Alaska               | 128.1                | 193.0                |\n",
       "|  3                   | Arizona              | 165.6                | 206.5                |\n",
       "|  4                   | Arkansas             | 223.9                | 307.9                |\n",
       "|  5                   | California           | 150.9                | 187.1                |\n",
       "|  6                   | Colorado             | 139.0                | 170.4                |\n",
       "|  7                   | Connecticut          | 190.5                | 189.3                |\n",
       "|  8                   | Delaware             | 210.2                | 256.3                |\n",
       "|  9                   | District of Columbia | 182.1                | 282.8                |\n",
       "| 10                   | Florida              | 219.2                | 251.5                |\n",
       "\n"
      ],
      "text/plain": [
       "   snum statename            rate  tmr  \n",
       "1   1   Alabama              214.2 310.4\n",
       "2   2   Alaska               128.1 193.0\n",
       "3   3   Arizona              165.6 206.5\n",
       "4   4   Arkansas             223.9 307.9\n",
       "5   5   California           150.9 187.1\n",
       "6   6   Colorado             139.0 170.4\n",
       "7   7   Connecticut          190.5 189.3\n",
       "8   8   Delaware             210.2 256.3\n",
       "9   9   District of Columbia 182.1 282.8\n",
       "10 10   Florida              219.2 251.5"
      ]
     },
     "metadata": {},
     "output_type": "display_data"
    },
    {
     "data": {
      "image/png": "[encoded data removed]",
      "text/plain": [
       "Plot with title \"total male death rate\""
      ]
     },
     "metadata": {},
     "output_type": "display_data"
    }
   ],
   "source": [
    "male <- data.frame(snum = genral$sno, statename = cnr$State,rate = cnr$Total.Rate)\n",
    "male$tmr <- cnr$Rates.Age.and.Sex...18.Male + cnr$Rates.Age.and.Sex.18...45.Male + cnr$Rates.Age.and.Sex.45...64.Male\n",
    "head(male,10)\n",
    "barplot(t(as.matrix(male$tmr)), names.arg = male$snum, xlab = \"Males in each state\", ylab = \"rate\", col = \"blue\",main = \"total male death rate\", border = \"black\")"
   ]
  },
  {
   "cell_type": "markdown",
   "id": "e6675fa9",
   "metadata": {},
   "source": [
    "This graph gives the death rate in US by male gender."
   ]
  },
  {
   "cell_type": "code",
   "execution_count": 10,
   "id": "85f71de3",
   "metadata": {},
   "outputs": [
    {
     "data": {
      "text/html": [
       "<table>\n",
       "<thead><tr><th scope=col>snum</th><th scope=col>statename</th><th scope=col>rate</th><th scope=col>tfr</th></tr></thead>\n",
       "<tbody>\n",
       "\t<tr><td> 1                  </td><td>Alabama             </td><td>214.2               </td><td>223.1               </td></tr>\n",
       "\t<tr><td> 2                  </td><td>Alaska              </td><td>128.1               </td><td>171.5               </td></tr>\n",
       "\t<tr><td> 3                  </td><td>Arizona             </td><td>165.6               </td><td>174.3               </td></tr>\n",
       "\t<tr><td> 4                  </td><td>Arkansas            </td><td>223.9               </td><td>234.0               </td></tr>\n",
       "\t<tr><td> 5                  </td><td>California          </td><td>150.9               </td><td>173.2               </td></tr>\n",
       "\t<tr><td> 6                  </td><td>Colorado            </td><td>139.0               </td><td>156.2               </td></tr>\n",
       "\t<tr><td> 7                  </td><td>Connecticut         </td><td>190.5               </td><td>169.2               </td></tr>\n",
       "\t<tr><td> 8                  </td><td>Delaware            </td><td>210.2               </td><td>212.9               </td></tr>\n",
       "\t<tr><td> 9                  </td><td>District of Columbia</td><td>182.1               </td><td>247.1               </td></tr>\n",
       "\t<tr><td>10                  </td><td>Florida             </td><td>219.2               </td><td>200.4               </td></tr>\n",
       "</tbody>\n",
       "</table>\n"
      ],
      "text/latex": [
       "\\begin{tabular}{r|llll}\n",
       " snum & statename & rate & tfr\\\\\n",
       "\\hline\n",
       "\t  1                   & Alabama              & 214.2                & 223.1               \\\\\n",
       "\t  2                   & Alaska               & 128.1                & 171.5               \\\\\n",
       "\t  3                   & Arizona              & 165.6                & 174.3               \\\\\n",
       "\t  4                   & Arkansas             & 223.9                & 234.0               \\\\\n",
       "\t  5                   & California           & 150.9                & 173.2               \\\\\n",
       "\t  6                   & Colorado             & 139.0                & 156.2               \\\\\n",
       "\t  7                   & Connecticut          & 190.5                & 169.2               \\\\\n",
       "\t  8                   & Delaware             & 210.2                & 212.9               \\\\\n",
       "\t  9                   & District of Columbia & 182.1                & 247.1               \\\\\n",
       "\t 10                   & Florida              & 219.2                & 200.4               \\\\\n",
       "\\end{tabular}\n"
      ],
      "text/markdown": [
       "\n",
       "| snum | statename | rate | tfr |\n",
       "|---|---|---|---|\n",
       "|  1                   | Alabama              | 214.2                | 223.1                |\n",
       "|  2                   | Alaska               | 128.1                | 171.5                |\n",
       "|  3                   | Arizona              | 165.6                | 174.3                |\n",
       "|  4                   | Arkansas             | 223.9                | 234.0                |\n",
       "|  5                   | California           | 150.9                | 173.2                |\n",
       "|  6                   | Colorado             | 139.0                | 156.2                |\n",
       "|  7                   | Connecticut          | 190.5                | 169.2                |\n",
       "|  8                   | Delaware             | 210.2                | 212.9                |\n",
       "|  9                   | District of Columbia | 182.1                | 247.1                |\n",
       "| 10                   | Florida              | 219.2                | 200.4                |\n",
       "\n"
      ],
      "text/plain": [
       "   snum statename            rate  tfr  \n",
       "1   1   Alabama              214.2 223.1\n",
       "2   2   Alaska               128.1 171.5\n",
       "3   3   Arizona              165.6 174.3\n",
       "4   4   Arkansas             223.9 234.0\n",
       "5   5   California           150.9 173.2\n",
       "6   6   Colorado             139.0 156.2\n",
       "7   7   Connecticut          190.5 169.2\n",
       "8   8   Delaware             210.2 212.9\n",
       "9   9   District of Columbia 182.1 247.1\n",
       "10 10   Florida              219.2 200.4"
      ]
     },
     "metadata": {},
     "output_type": "display_data"
    },
    {
     "data": {
      "image/png": "[encoded data removed]",
      "text/plain": [
       "Plot with title \"total male death rate\""
      ]
     },
     "metadata": {},
     "output_type": "display_data"
    }
   ],
   "source": [
    "female <- data.frame(snum = genral$sno, statename = cnr$State,rate = cnr$Total.Rate)\n",
    "female$tfr <- cnr$Rates.Age.and.Sex...18.Female + cnr$Rates.Age.and.Sex.18...45.Female + cnr$Rates.Age.and.Sex.45...64.Female\n",
    "head(female,10)\n",
    "barplot(t(as.matrix(female$tfr)), names.arg = female$snum, xlab = \"Females in each state\", ylab = \"Rate\", col = \"yellow\",main = \"total male death rate\", border = \"black\")"
   ]
  },
  {
   "cell_type": "markdown",
   "id": "1c726f8d",
   "metadata": {},
   "source": [
    "This graph gives the death rate in US by female gender."
   ]
  },
  {
   "cell_type": "code",
   "execution_count": 11,
   "id": "6fa802c1",
   "metadata": {},
   "outputs": [
    {
     "data": {
      "text/html": [
       "<table>\n",
       "<thead><tr><th scope=col>snum</th><th scope=col>statename</th><th scope=col>rate</th><th scope=col>bcr</th></tr></thead>\n",
       "<tbody>\n",
       "\t<tr><td> 1                  </td><td>Alabama             </td><td>214.2               </td><td>27.4                </td></tr>\n",
       "\t<tr><td> 2                  </td><td>Alaska              </td><td>128.1               </td><td>17.8                </td></tr>\n",
       "\t<tr><td> 3                  </td><td>Arizona             </td><td>165.6               </td><td>23.3                </td></tr>\n",
       "\t<tr><td> 4                  </td><td>Arkansas            </td><td>223.9               </td><td>27.9                </td></tr>\n",
       "\t<tr><td> 5                  </td><td>California          </td><td>150.9               </td><td>23.0                </td></tr>\n",
       "\t<tr><td> 6                  </td><td>Colorado            </td><td>139.0               </td><td>20.7                </td></tr>\n",
       "\t<tr><td> 7                  </td><td>Connecticut         </td><td>190.5               </td><td>26.7                </td></tr>\n",
       "\t<tr><td> 8                  </td><td>Delaware            </td><td>210.2               </td><td>28.0                </td></tr>\n",
       "\t<tr><td> 9                  </td><td>District of Columbia</td><td>182.1               </td><td>31.3                </td></tr>\n",
       "\t<tr><td>10                  </td><td>Florida             </td><td>219.2               </td><td>28.7                </td></tr>\n",
       "</tbody>\n",
       "</table>\n"
      ],
      "text/latex": [
       "\\begin{tabular}{r|llll}\n",
       " snum & statename & rate & bcr\\\\\n",
       "\\hline\n",
       "\t  1                   & Alabama              & 214.2                & 27.4                \\\\\n",
       "\t  2                   & Alaska               & 128.1                & 17.8                \\\\\n",
       "\t  3                   & Arizona              & 165.6                & 23.3                \\\\\n",
       "\t  4                   & Arkansas             & 223.9                & 27.9                \\\\\n",
       "\t  5                   & California           & 150.9                & 23.0                \\\\\n",
       "\t  6                   & Colorado             & 139.0                & 20.7                \\\\\n",
       "\t  7                   & Connecticut          & 190.5                & 26.7                \\\\\n",
       "\t  8                   & Delaware             & 210.2                & 28.0                \\\\\n",
       "\t  9                   & District of Columbia & 182.1                & 31.3                \\\\\n",
       "\t 10                   & Florida              & 219.2                & 28.7                \\\\\n",
       "\\end{tabular}\n"
      ],
      "text/markdown": [
       "\n",
       "| snum | statename | rate | bcr |\n",
       "|---|---|---|---|\n",
       "|  1                   | Alabama              | 214.2                | 27.4                 |\n",
       "|  2                   | Alaska               | 128.1                | 17.8                 |\n",
       "|  3                   | Arizona              | 165.6                | 23.3                 |\n",
       "|  4                   | Arkansas             | 223.9                | 27.9                 |\n",
       "|  5                   | California           | 150.9                | 23.0                 |\n",
       "|  6                   | Colorado             | 139.0                | 20.7                 |\n",
       "|  7                   | Connecticut          | 190.5                | 26.7                 |\n",
       "|  8                   | Delaware             | 210.2                | 28.0                 |\n",
       "|  9                   | District of Columbia | 182.1                | 31.3                 |\n",
       "| 10                   | Florida              | 219.2                | 28.7                 |\n",
       "\n"
      ],
      "text/plain": [
       "   snum statename            rate  bcr \n",
       "1   1   Alabama              214.2 27.4\n",
       "2   2   Alaska               128.1 17.8\n",
       "3   3   Arizona              165.6 23.3\n",
       "4   4   Arkansas             223.9 27.9\n",
       "5   5   California           150.9 23.0\n",
       "6   6   Colorado             139.0 20.7\n",
       "7   7   Connecticut          190.5 26.7\n",
       "8   8   Delaware             210.2 28.0\n",
       "9   9   District of Columbia 182.1 31.3\n",
       "10 10   Florida              219.2 28.7"
      ]
     },
     "metadata": {},
     "output_type": "display_data"
    },
    {
     "data": {
      "image/png": "[encoded data removed]",
      "text/plain": [
       "Plot with title \"total male death rate\""
      ]
     },
     "metadata": {},
     "output_type": "display_data"
    }
   ],
   "source": [
    "breastcancer <- data.frame(snum = genral$sno, statename = cnr$State,rate = cnr$Total.Rate, bcr = cnr$Types.Breast.Total)\n",
    "head(breastcancer,10)\n",
    "barplot(t(as.matrix(breastcancer$bcr)), names.arg = breastcancer$snum, xlab = \"breastcancer in each state\", ylab = \"Rate\", col = \"red\",main = \"total male death rate\", border = \"black\")"
   ]
  },
  {
   "cell_type": "markdown",
   "id": "f286fedd",
   "metadata": {},
   "source": [
    "This graph displays the death rate in US of femal with breast cancer."
   ]
  },
  {
   "cell_type": "code",
   "execution_count": 12,
   "id": "827a6739",
   "metadata": {},
   "outputs": [
    {
     "data": {
      "text/html": [
       "<table>\n",
       "<thead><tr><th scope=col>snum</th><th scope=col>statename</th><th scope=col>usrate</th><th scope=col>young</th><th scope=col>midle</th><th scope=col>senior</th><th scope=col>FDR</th></tr></thead>\n",
       "<tbody>\n",
       "\t<tr><td> 1                  </td><td>Alabama             </td><td>214.2               </td><td>2.0                 </td><td>20.1                </td><td>201.0               </td><td>223.1               </td></tr>\n",
       "\t<tr><td> 2                  </td><td>Alaska              </td><td>128.1               </td><td>0.0                 </td><td>13.9                </td><td>157.6               </td><td>171.5               </td></tr>\n",
       "\t<tr><td> 3                  </td><td>Arizona             </td><td>165.6               </td><td>2.6                 </td><td>15.2                </td><td>156.5               </td><td>174.3               </td></tr>\n",
       "\t<tr><td> 4                  </td><td>Arkansas            </td><td>223.9               </td><td>2.6                 </td><td>19.5                </td><td>211.9               </td><td>234.0               </td></tr>\n",
       "\t<tr><td> 5                  </td><td>California          </td><td>150.9               </td><td>2.4                 </td><td>15.0                </td><td>155.8               </td><td>173.2               </td></tr>\n",
       "\t<tr><td> 6                  </td><td>Colorado            </td><td>139.0               </td><td>1.9                 </td><td>12.8                </td><td>141.5               </td><td>156.2               </td></tr>\n",
       "\t<tr><td> 7                  </td><td>Connecticut         </td><td>190.5               </td><td>1.6                 </td><td>15.1                </td><td>152.5               </td><td>169.2               </td></tr>\n",
       "\t<tr><td> 8                  </td><td>Delaware            </td><td>210.2               </td><td>0.0                 </td><td>17.8                </td><td>195.1               </td><td>212.9               </td></tr>\n",
       "\t<tr><td> 9                  </td><td>District of Columbia</td><td>182.1               </td><td>0.0                 </td><td>13.9                </td><td>233.2               </td><td>247.1               </td></tr>\n",
       "\t<tr><td>10                  </td><td>Florida             </td><td>219.2               </td><td>2.0                 </td><td>17.5                </td><td>180.9               </td><td>200.4               </td></tr>\n",
       "</tbody>\n",
       "</table>\n"
      ],
      "text/latex": [
       "\\begin{tabular}{r|lllllll}\n",
       " snum & statename & usrate & young & midle & senior & FDR\\\\\n",
       "\\hline\n",
       "\t  1                   & Alabama              & 214.2                & 2.0                  & 20.1                 & 201.0                & 223.1               \\\\\n",
       "\t  2                   & Alaska               & 128.1                & 0.0                  & 13.9                 & 157.6                & 171.5               \\\\\n",
       "\t  3                   & Arizona              & 165.6                & 2.6                  & 15.2                 & 156.5                & 174.3               \\\\\n",
       "\t  4                   & Arkansas             & 223.9                & 2.6                  & 19.5                 & 211.9                & 234.0               \\\\\n",
       "\t  5                   & California           & 150.9                & 2.4                  & 15.0                 & 155.8                & 173.2               \\\\\n",
       "\t  6                   & Colorado             & 139.0                & 1.9                  & 12.8                 & 141.5                & 156.2               \\\\\n",
       "\t  7                   & Connecticut          & 190.5                & 1.6                  & 15.1                 & 152.5                & 169.2               \\\\\n",
       "\t  8                   & Delaware             & 210.2                & 0.0                  & 17.8                 & 195.1                & 212.9               \\\\\n",
       "\t  9                   & District of Columbia & 182.1                & 0.0                  & 13.9                 & 233.2                & 247.1               \\\\\n",
       "\t 10                   & Florida              & 219.2                & 2.0                  & 17.5                 & 180.9                & 200.4               \\\\\n",
       "\\end{tabular}\n"
      ],
      "text/markdown": [
       "\n",
       "| snum | statename | usrate | young | midle | senior | FDR |\n",
       "|---|---|---|---|---|---|---|\n",
       "|  1                   | Alabama              | 214.2                | 2.0                  | 20.1                 | 201.0                | 223.1                |\n",
       "|  2                   | Alaska               | 128.1                | 0.0                  | 13.9                 | 157.6                | 171.5                |\n",
       "|  3                   | Arizona              | 165.6                | 2.6                  | 15.2                 | 156.5                | 174.3                |\n",
       "|  4                   | Arkansas             | 223.9                | 2.6                  | 19.5                 | 211.9                | 234.0                |\n",
       "|  5                   | California           | 150.9                | 2.4                  | 15.0                 | 155.8                | 173.2                |\n",
       "|  6                   | Colorado             | 139.0                | 1.9                  | 12.8                 | 141.5                | 156.2                |\n",
       "|  7                   | Connecticut          | 190.5                | 1.6                  | 15.1                 | 152.5                | 169.2                |\n",
       "|  8                   | Delaware             | 210.2                | 0.0                  | 17.8                 | 195.1                | 212.9                |\n",
       "|  9                   | District of Columbia | 182.1                | 0.0                  | 13.9                 | 233.2                | 247.1                |\n",
       "| 10                   | Florida              | 219.2                | 2.0                  | 17.5                 | 180.9                | 200.4                |\n",
       "\n"
      ],
      "text/plain": [
       "   snum statename            usrate young midle senior FDR  \n",
       "1   1   Alabama              214.2  2.0   20.1  201.0  223.1\n",
       "2   2   Alaska               128.1  0.0   13.9  157.6  171.5\n",
       "3   3   Arizona              165.6  2.6   15.2  156.5  174.3\n",
       "4   4   Arkansas             223.9  2.6   19.5  211.9  234.0\n",
       "5   5   California           150.9  2.4   15.0  155.8  173.2\n",
       "6   6   Colorado             139.0  1.9   12.8  141.5  156.2\n",
       "7   7   Connecticut          190.5  1.6   15.1  152.5  169.2\n",
       "8   8   Delaware             210.2  0.0   17.8  195.1  212.9\n",
       "9   9   District of Columbia 182.1  0.0   13.9  233.2  247.1\n",
       "10 10   Florida              219.2  2.0   17.5  180.9  200.4"
      ]
     },
     "metadata": {},
     "output_type": "display_data"
    }
   ],
   "source": [
    "drw <- data.frame(snum = genral$sno, statename = ss1$State,usrate = ss1$Total.Rate, \n",
    "                  young = ss1$Rates.Age.and.Sex...18.Female, midle = ss1$Rates.Age.and.Sex.18...45.Female ,\n",
    "                  senior = ss1$Rates.Age.and.Sex.45...64.Female, FDR = ss1$totalfdr )\n",
    "head(drw,10)"
   ]
  },
  {
   "cell_type": "code",
   "execution_count": 13,
   "id": "0b70c34e",
   "metadata": {},
   "outputs": [
    {
     "data": {
      "text/html": [
       "<table>\n",
       "<tbody>\n",
       "\t<tr><td>0.7069892</td></tr>\n",
       "</tbody>\n",
       "</table>\n"
      ],
      "text/latex": [
       "\\begin{tabular}{l}\n",
       "\t 0.7069892\\\\\n",
       "\\end{tabular}\n"
      ],
      "text/markdown": [
       "\n",
       "| 0.7069892 |\n",
       "\n"
      ],
      "text/plain": [
       "     [,1]     \n",
       "[1,] 0.7069892"
      ]
     },
     "metadata": {},
     "output_type": "display_data"
    },
    {
     "data": {
      "image/png": "[encoded data removed]",
      "text/plain": [
       "plot without title"
      ]
     },
     "metadata": {},
     "output_type": "display_data"
    }
   ],
   "source": [
    "x1 <- as.matrix(ss1$Total.Rate)\n",
    "y1 <- as.matrix(ss1$totalfdr)\n",
    "cor(x1,y1)\n",
    "plot(x1, y1, pch = 19, col = \"lightblue\")\n",
    "abline(lm(y1 ~ x1), col = \"red\", lwd = 3)"
   ]
  },
  {
   "cell_type": "markdown",
   "id": "73adc820",
   "metadata": {},
   "source": [
    "This graph explains the impact of breast cancer on female death rate."
   ]
  },
  {
   "cell_type": "code",
   "execution_count": 14,
   "id": "01ef6eda",
   "metadata": {},
   "outputs": [
    {
     "data": {
      "text/html": [
       "<table>\n",
       "<tbody>\n",
       "\t<tr><td>0.7088554</td></tr>\n",
       "</tbody>\n",
       "</table>\n"
      ],
      "text/latex": [
       "\\begin{tabular}{l}\n",
       "\t 0.7088554\\\\\n",
       "\\end{tabular}\n"
      ],
      "text/markdown": [
       "\n",
       "| 0.7088554 |\n",
       "\n"
      ],
      "text/plain": [
       "     [,1]     \n",
       "[1,] 0.7088554"
      ]
     },
     "metadata": {},
     "output_type": "display_data"
    },
    {
     "data": {
      "image/png": "[encoded data removed]",
      "text/plain": [
       "plot without title"
      ]
     },
     "metadata": {},
     "output_type": "display_data"
    }
   ],
   "source": [
    "x2 <- as.matrix(ss1$Types.Breast.Total)\n",
    "y2 <- as.matrix(ss1$totalfdr)\n",
    "cor(x2,y2)\n",
    "plot(x2, y2, pch = 19, col = \"blue\")\n",
    "abline(lm(y2 ~ x2), col = \"red\", lwd = 3)"
   ]
  },
  {
   "cell_type": "markdown",
   "id": "a66a7535",
   "metadata": {},
   "source": [
    "This graph explains the impack of colorectal cancer on female death rate."
   ]
  },
  {
   "cell_type": "code",
   "execution_count": 15,
   "id": "40ed0255",
   "metadata": {},
   "outputs": [
    {
     "data": {
      "text/html": [
       "<table>\n",
       "<tbody>\n",
       "\t<tr><td>0.6971266</td></tr>\n",
       "</tbody>\n",
       "</table>\n"
      ],
      "text/latex": [
       "\\begin{tabular}{l}\n",
       "\t 0.6971266\\\\\n",
       "\\end{tabular}\n"
      ],
      "text/markdown": [
       "\n",
       "| 0.6971266 |\n",
       "\n"
      ],
      "text/plain": [
       "     [,1]     \n",
       "[1,] 0.6971266"
      ]
     },
     "metadata": {},
     "output_type": "display_data"
    },
    {
     "data": {
      "image/png": "[encoded data removed]",
      "text/plain": [
       "plot without title"
      ]
     },
     "metadata": {},
     "output_type": "display_data"
    }
   ],
   "source": [
    "x3 <- as.matrix(ss1$Types.Colorectal.Total)\n",
    "y3 <- as.matrix(ss1$totalfdr)\n",
    "cor(x3,y3)\n",
    "plot(x3, y3, pch = 19, col = \"blue\")\n",
    "abline(lm(y3 ~ x3), col = \"red\", lwd = 3)"
   ]
  },
  {
   "cell_type": "markdown",
   "id": "36695cd4",
   "metadata": {},
   "source": [
    "This graph explains the impack of lung cancer on female death rate"
   ]
  },
  {
   "cell_type": "markdown",
   "id": "f7a15b65",
   "metadata": {},
   "source": [
    "### Linear Models\n",
    "\n",
    "This slr Model \"m1\" explains the corelation between \"total female death rate\" to \"total breast cancer rate of death"
   ]
  },
  {
   "cell_type": "code",
   "execution_count": 16,
   "id": "1df191b4",
   "metadata": {},
   "outputs": [
    {
     "data": {
      "text/plain": [
       "\n",
       "Call:\n",
       "lm(formula = ss1$totalfdr ~ ss1$Types.Breast.Total, data = ss1)\n",
       "\n",
       "Coefficients:\n",
       "           (Intercept)  ss1$Types.Breast.Total  \n",
       "                45.706                   5.761  \n"
      ]
     },
     "metadata": {},
     "output_type": "display_data"
    },
    {
     "data": {
      "text/plain": [
       "\n",
       "Call:\n",
       "lm(formula = ss1$totalfdr ~ ss1$Types.Breast.Total, data = ss1)\n",
       "\n",
       "Residuals:\n",
       "    Min      1Q  Median      3Q     Max \n",
       "-37.361 -10.887  -4.176  13.202  41.930 \n",
       "\n",
       "Coefficients:\n",
       "                       Estimate Std. Error t value Pr(>|t|)    \n",
       "(Intercept)              45.706     21.450   2.131   0.0381 *  \n",
       "ss1$Types.Breast.Total    5.761      0.819   7.035 5.86e-09 ***\n",
       "---\n",
       "Signif. codes:  0 '***' 0.001 '**' 0.01 '*' 0.05 '.' 0.1 ' ' 1\n",
       "\n",
       "Residual standard error: 17.93 on 49 degrees of freedom\n",
       "Multiple R-squared:  0.5025,\tAdjusted R-squared:  0.4923 \n",
       "F-statistic: 49.49 on 1 and 49 DF,  p-value: 5.861e-09\n"
      ]
     },
     "metadata": {},
     "output_type": "display_data"
    }
   ],
   "source": [
    "m1 <- lm(ss1$totalfdr ~ ss1$Types.Breast.Total, data = ss1)                                                                   \n",
    "m1\n",
    "summary(m1)"
   ]
  },
  {
   "cell_type": "markdown",
   "id": "ecc31f10",
   "metadata": {},
   "source": [
    "This slr Model \"m2\" explains the corelation between \"total female death rate\" to \"total colarectal cancer rate of death\""
   ]
  },
  {
   "cell_type": "code",
   "execution_count": 17,
   "id": "0ea1ff93",
   "metadata": {},
   "outputs": [
    {
     "data": {
      "text/plain": [
       "\n",
       "Call:\n",
       "lm(formula = ss1$totalfdr ~ ss1$Types.Colorectal.Total, data = ss1)\n",
       "\n",
       "Coefficients:\n",
       "               (Intercept)  ss1$Types.Colorectal.Total  \n",
       "                    82.123                       6.481  \n"
      ]
     },
     "metadata": {},
     "output_type": "display_data"
    },
    {
     "data": {
      "text/plain": [
       "\n",
       "Call:\n",
       "lm(formula = ss1$totalfdr ~ ss1$Types.Colorectal.Total, data = ss1)\n",
       "\n",
       "Residuals:\n",
       "    Min      1Q  Median      3Q     Max \n",
       "-46.897 -10.842  -3.051  12.636  51.565 \n",
       "\n",
       "Coefficients:\n",
       "                           Estimate Std. Error t value Pr(>|t|)    \n",
       "(Intercept)                 82.1230    16.8604   4.871 1.20e-05 ***\n",
       "ss1$Types.Colorectal.Total   6.4807     0.9521   6.806 1.32e-08 ***\n",
       "---\n",
       "Signif. codes:  0 '***' 0.001 '**' 0.01 '*' 0.05 '.' 0.1 ' ' 1\n",
       "\n",
       "Residual standard error: 18.22 on 49 degrees of freedom\n",
       "Multiple R-squared:  0.486,\tAdjusted R-squared:  0.4755 \n",
       "F-statistic: 46.33 on 1 and 49 DF,  p-value: 1.323e-08\n"
      ]
     },
     "metadata": {},
     "output_type": "display_data"
    }
   ],
   "source": [
    "m2 <- lm(ss1$totalfdr ~ ss1$Types.Colorectal.Total, data = ss1)   # lm is used to create model                                                                     \n",
    "m2\n",
    "summary(m2)"
   ]
  },
  {
   "cell_type": "markdown",
   "id": "715f7d13",
   "metadata": {},
   "source": [
    "This slr Model \"m3\" explains the corelation between \"total female death rate\" to \"total lung cancer rate of death\""
   ]
  },
  {
   "cell_type": "code",
   "execution_count": 18,
   "id": "18683b3f",
   "metadata": {},
   "outputs": [
    {
     "data": {
      "text/plain": [
       "\n",
       "Call:\n",
       "lm(formula = ss1$totalfdr ~ ss1$Types.Lung.Total, data = ss1)\n",
       "\n",
       "Coefficients:\n",
       "         (Intercept)  ss1$Types.Lung.Total  \n",
       "             110.824                 1.593  \n"
      ]
     },
     "metadata": {},
     "output_type": "display_data"
    },
    {
     "data": {
      "text/plain": [
       "\n",
       "Call:\n",
       "lm(formula = ss1$totalfdr ~ ss1$Types.Lung.Total, data = ss1)\n",
       "\n",
       "Residuals:\n",
       "    Min      1Q  Median      3Q     Max \n",
       "-25.192  -7.798  -0.536   6.508  70.023 \n",
       "\n",
       "Coefficients:\n",
       "                     Estimate Std. Error t value Pr(>|t|)    \n",
       "(Intercept)          110.8237     9.4140  11.772 6.82e-16 ***\n",
       "ss1$Types.Lung.Total   1.5926     0.1723   9.245 2.55e-12 ***\n",
       "---\n",
       "Signif. codes:  0 '***' 0.001 '**' 0.01 '*' 0.05 '.' 0.1 ' ' 1\n",
       "\n",
       "Residual standard error: 15.34 on 49 degrees of freedom\n",
       "Multiple R-squared:  0.6356,\tAdjusted R-squared:  0.6282 \n",
       "F-statistic: 85.47 on 1 and 49 DF,  p-value: 2.549e-12\n"
      ]
     },
     "metadata": {},
     "output_type": "display_data"
    }
   ],
   "source": [
    "m3 <- lm(ss1$totalfdr ~ ss1$Types.Lung.Total, data = ss1)    # lm is used to create model                                                                     \n",
    "m3\n",
    "summary(m3)"
   ]
  },
  {
   "cell_type": "markdown",
   "id": "befdccb4",
   "metadata": {},
   "source": [
    "### Multiple Linear regression"
   ]
  },
  {
   "cell_type": "markdown",
   "id": "b3310a37",
   "metadata": {},
   "source": [
    "mlr1 shows total female death rate to female from black race background"
   ]
  },
  {
   "cell_type": "code",
   "execution_count": 19,
   "id": "3e1b78fd",
   "metadata": {},
   "outputs": [
    {
     "data": {
      "text/plain": [
       "\n",
       "Call:\n",
       "lm(formula = ss1$totalfdr ~ ss1$Types.Lung.Total + ss1$Rates.Race.and.Sex.Female.Black + \n",
       "    ss1$Rates.Race.and.Sex.Female.Black.non.Hispanic, data = ss1)\n",
       "\n",
       "Coefficients:\n",
       "                                     (Intercept)  \n",
       "                                         114.819  \n",
       "                            ss1$Types.Lung.Total  \n",
       "                                           1.212  \n",
       "             ss1$Rates.Race.and.Sex.Female.Black  \n",
       "                                           1.326  \n",
       "ss1$Rates.Race.and.Sex.Female.Black.non.Hispanic  \n",
       "                                          -1.179  \n"
      ]
     },
     "metadata": {},
     "output_type": "display_data"
    },
    {
     "data": {
      "text/plain": [
       "\n",
       "Call:\n",
       "lm(formula = ss1$totalfdr ~ ss1$Types.Lung.Total + ss1$Rates.Race.and.Sex.Female.Black + \n",
       "    ss1$Rates.Race.and.Sex.Female.Black.non.Hispanic, data = ss1)\n",
       "\n",
       "Residuals:\n",
       "    Min      1Q  Median      3Q     Max \n",
       "-17.967  -5.387  -0.497   4.193  54.133 \n",
       "\n",
       "Coefficients:\n",
       "                                                 Estimate Std. Error t value\n",
       "(Intercept)                                      114.8192     9.3584  12.269\n",
       "ss1$Types.Lung.Total                               1.2117     0.1613   7.510\n",
       "ss1$Rates.Race.and.Sex.Female.Black                1.3259     0.3976   3.335\n",
       "ss1$Rates.Race.and.Sex.Female.Black.non.Hispanic  -1.1793     0.3928  -3.003\n",
       "                                                 Pr(>|t|)    \n",
       "(Intercept)                                      2.93e-16 ***\n",
       "ss1$Types.Lung.Total                             1.38e-09 ***\n",
       "ss1$Rates.Race.and.Sex.Female.Black               0.00167 ** \n",
       "ss1$Rates.Race.and.Sex.Female.Black.non.Hispanic  0.00428 ** \n",
       "---\n",
       "Signif. codes:  0 '***' 0.001 '**' 0.01 '*' 0.05 '.' 0.1 ' ' 1\n",
       "\n",
       "Residual standard error: 12.41 on 47 degrees of freedom\n",
       "Multiple R-squared:  0.7712,\tAdjusted R-squared:  0.7566 \n",
       "F-statistic: 52.81 on 3 and 47 DF,  p-value: 4.338e-15\n"
      ]
     },
     "metadata": {},
     "output_type": "display_data"
    }
   ],
   "source": [
    "mlr1 <- lm(ss1$totalfdr ~ ss1$Types.Lung.Total  + ss1$Rates.Race.and.Sex.Female.Black + ss1$Rates.Race.and.Sex.Female.Black.non.Hispanic , data = ss1)\n",
    "mlr1\n",
    "summary(mlr1)"
   ]
  },
  {
   "cell_type": "markdown",
   "id": "ab3466c7",
   "metadata": {},
   "source": [
    "mlr2 shows total female death rate to female from white race background"
   ]
  },
  {
   "cell_type": "code",
   "execution_count": 20,
   "id": "1567011c",
   "metadata": {},
   "outputs": [
    {
     "data": {
      "text/plain": [
       "\n",
       "Call:\n",
       "lm(formula = ss1$totalfdr ~ ss1$Types.Lung.Total + ss1$Rates.Race.and.Sex.Female.White + \n",
       "    ss1$Rates.Race.and.Sex.Female.White.non.Hispanic, data = ss1)\n",
       "\n",
       "Coefficients:\n",
       "                                     (Intercept)  \n",
       "                                         146.997  \n",
       "                            ss1$Types.Lung.Total  \n",
       "                                           1.951  \n",
       "             ss1$Rates.Race.and.Sex.Female.White  \n",
       "                                          -1.541  \n",
       "ss1$Rates.Race.and.Sex.Female.White.non.Hispanic  \n",
       "                                           1.145  \n"
      ]
     },
     "metadata": {},
     "output_type": "display_data"
    },
    {
     "data": {
      "text/plain": [
       "\n",
       "Call:\n",
       "lm(formula = ss1$totalfdr ~ ss1$Types.Lung.Total + ss1$Rates.Race.and.Sex.Female.White + \n",
       "    ss1$Rates.Race.and.Sex.Female.White.non.Hispanic, data = ss1)\n",
       "\n",
       "Residuals:\n",
       "    Min      1Q  Median      3Q     Max \n",
       "-26.951  -7.490  -0.090   6.745  63.299 \n",
       "\n",
       "Coefficients:\n",
       "                                                 Estimate Std. Error t value\n",
       "(Intercept)                                      146.9969    35.8778   4.097\n",
       "ss1$Types.Lung.Total                               1.9512     0.3175   6.145\n",
       "ss1$Rates.Race.and.Sex.Female.White               -1.5411     1.1043  -1.396\n",
       "ss1$Rates.Race.and.Sex.Female.White.non.Hispanic   1.1451     0.9679   1.183\n",
       "                                                 Pr(>|t|)    \n",
       "(Intercept)                                      0.000164 ***\n",
       "ss1$Types.Lung.Total                             1.62e-07 ***\n",
       "ss1$Rates.Race.and.Sex.Female.White              0.169407    \n",
       "ss1$Rates.Race.and.Sex.Female.White.non.Hispanic 0.242722    \n",
       "---\n",
       "Signif. codes:  0 '***' 0.001 '**' 0.01 '*' 0.05 '.' 0.1 ' ' 1\n",
       "\n",
       "Residual standard error: 15.31 on 47 degrees of freedom\n",
       "Multiple R-squared:  0.652,\tAdjusted R-squared:  0.6298 \n",
       "F-statistic: 29.36 on 3 and 47 DF,  p-value: 7.639e-11\n"
      ]
     },
     "metadata": {},
     "output_type": "display_data"
    }
   ],
   "source": [
    "mlr2 <- lm(ss1$totalfdr ~ ss1$Types.Lung.Total + ss1$Rates.Race.and.Sex.Female.White + ss1$Rates.Race.and.Sex.Female.White.non.Hispanic  , data = ss1)\n",
    "mlr2\n",
    "summary(mlr2)"
   ]
  },
  {
   "cell_type": "markdown",
   "id": "63bec2e7",
   "metadata": {},
   "source": [
    "mlr3 shows total female death rate to female from asian race background"
   ]
  },
  {
   "cell_type": "code",
   "execution_count": 21,
   "id": "3a3be3df",
   "metadata": {},
   "outputs": [
    {
     "data": {
      "text/plain": [
       "\n",
       "Call:\n",
       "lm(formula = ss1$totalfdr ~ ss1$Types.Lung.Total + ss1$Rates.Race.and.Sex.Female.Asian, \n",
       "    data = ss1)\n",
       "\n",
       "Coefficients:\n",
       "                        (Intercept)                 ss1$Types.Lung.Total  \n",
       "                          103.04710                              1.58207  \n",
       "ss1$Rates.Race.and.Sex.Female.Asian  \n",
       "                            0.09808  \n"
      ]
     },
     "metadata": {},
     "output_type": "display_data"
    },
    {
     "data": {
      "text/plain": [
       "\n",
       "Call:\n",
       "lm(formula = ss1$totalfdr ~ ss1$Types.Lung.Total + ss1$Rates.Race.and.Sex.Female.Asian, \n",
       "    data = ss1)\n",
       "\n",
       "Residuals:\n",
       "    Min      1Q  Median      3Q     Max \n",
       "-22.928  -8.863  -0.128   6.586  70.412 \n",
       "\n",
       "Coefficients:\n",
       "                                     Estimate Std. Error t value Pr(>|t|)    \n",
       "(Intercept)                         103.04710   11.97617   8.604 2.73e-11 ***\n",
       "ss1$Types.Lung.Total                  1.58207    0.17238   9.178 3.89e-12 ***\n",
       "ss1$Rates.Race.and.Sex.Female.Asian   0.09808    0.09352   1.049      0.3    \n",
       "---\n",
       "Signif. codes:  0 '***' 0.001 '**' 0.01 '*' 0.05 '.' 0.1 ' ' 1\n",
       "\n",
       "Residual standard error: 15.33 on 48 degrees of freedom\n",
       "Multiple R-squared:  0.6438,\tAdjusted R-squared:  0.6289 \n",
       "F-statistic: 43.37 on 2 and 48 DF,  p-value: 1.743e-11\n"
      ]
     },
     "metadata": {},
     "output_type": "display_data"
    }
   ],
   "source": [
    "mlr3 <- lm(ss1$totalfdr ~  ss1$Types.Lung.Total + ss1$Rates.Race.and.Sex.Female.Asian, data = ss1)\n",
    "mlr3\n",
    "summary(mlr3)"
   ]
  },
  {
   "cell_type": "markdown",
   "id": "da77b86c",
   "metadata": {},
   "source": [
    "mlr4 shows total female death rate to female from hispanic background"
   ]
  },
  {
   "cell_type": "code",
   "execution_count": 22,
   "id": "752fb6c9",
   "metadata": {},
   "outputs": [
    {
     "data": {
      "text/plain": [
       "\n",
       "Call:\n",
       "lm(formula = ss1$totalfdr ~ ss1$Types.Lung.Total + ss1$Rates.Race.and.Sex.Female.Hispanic, \n",
       "    data = ss1)\n",
       "\n",
       "Coefficients:\n",
       "                           (Intercept)                    ss1$Types.Lung.Total  \n",
       "                             112.80601                                 1.57847  \n",
       "ss1$Rates.Race.and.Sex.Female.Hispanic  \n",
       "                              -0.01495  \n"
      ]
     },
     "metadata": {},
     "output_type": "display_data"
    },
    {
     "data": {
      "text/plain": [
       "\n",
       "Call:\n",
       "lm(formula = ss1$totalfdr ~ ss1$Types.Lung.Total + ss1$Rates.Race.and.Sex.Female.Hispanic, \n",
       "    data = ss1)\n",
       "\n",
       "Residuals:\n",
       "    Min      1Q  Median      3Q     Max \n",
       "-26.499  -7.870  -0.467   6.360  69.969 \n",
       "\n",
       "Coefficients:\n",
       "                                        Estimate Std. Error t value Pr(>|t|)\n",
       "(Intercept)                            112.80601   16.58126   6.803 1.47e-08\n",
       "ss1$Types.Lung.Total                     1.57847    0.19924   7.922 2.88e-10\n",
       "ss1$Rates.Race.and.Sex.Female.Hispanic  -0.01495    0.10244  -0.146    0.885\n",
       "                                          \n",
       "(Intercept)                            ***\n",
       "ss1$Types.Lung.Total                   ***\n",
       "ss1$Rates.Race.and.Sex.Female.Hispanic    \n",
       "---\n",
       "Signif. codes:  0 '***' 0.001 '**' 0.01 '*' 0.05 '.' 0.1 ' ' 1\n",
       "\n",
       "Residual standard error: 15.5 on 48 degrees of freedom\n",
       "Multiple R-squared:  0.6358,\tAdjusted R-squared:  0.6206 \n",
       "F-statistic: 41.89 on 2 and 48 DF,  p-value: 2.97e-11\n"
      ]
     },
     "metadata": {},
     "output_type": "display_data"
    }
   ],
   "source": [
    "mlr4 <- lm(ss1$totalfdr ~  ss1$Types.Lung.Total + ss1$Rates.Race.and.Sex.Female.Hispanic, data = ss1)\n",
    "mlr4\n",
    "summary(mlr4)"
   ]
  },
  {
   "cell_type": "markdown",
   "id": "02d43618",
   "metadata": {},
   "source": [
    "mlr5 shows total female death rate to female from indegenious race background"
   ]
  },
  {
   "cell_type": "code",
   "execution_count": 23,
   "id": "ea52fd74",
   "metadata": {},
   "outputs": [
    {
     "data": {
      "text/plain": [
       "\n",
       "Call:\n",
       "lm(formula = ss1$totalfdr ~ ss1$Types.Lung.Total + ss1$Rates.Race.and.Sex.Female.Indigenous, \n",
       "    data = ss1)\n",
       "\n",
       "Coefficients:\n",
       "                             (Intercept)  \n",
       "                               122.62748  \n",
       "                    ss1$Types.Lung.Total  \n",
       "                                 1.51154  \n",
       "ss1$Rates.Race.and.Sex.Female.Indigenous  \n",
       "                                -0.08443  \n"
      ]
     },
     "metadata": {},
     "output_type": "display_data"
    },
    {
     "data": {
      "text/plain": [
       "\n",
       "Call:\n",
       "lm(formula = ss1$totalfdr ~ ss1$Types.Lung.Total + ss1$Rates.Race.and.Sex.Female.Indigenous, \n",
       "    data = ss1)\n",
       "\n",
       "Residuals:\n",
       "    Min      1Q  Median      3Q     Max \n",
       "-25.167  -6.410  -0.609   4.774  61.592 \n",
       "\n",
       "Coefficients:\n",
       "                                          Estimate Std. Error t value Pr(>|t|)\n",
       "(Intercept)                              122.62748   10.14872  12.083 3.64e-16\n",
       "ss1$Types.Lung.Total                       1.51154    0.16716   9.043 6.14e-12\n",
       "ss1$Rates.Race.and.Sex.Female.Indigenous  -0.08443    0.03412  -2.474   0.0169\n",
       "                                            \n",
       "(Intercept)                              ***\n",
       "ss1$Types.Lung.Total                     ***\n",
       "ss1$Rates.Race.and.Sex.Female.Indigenous *  \n",
       "---\n",
       "Signif. codes:  0 '***' 0.001 '**' 0.01 '*' 0.05 '.' 0.1 ' ' 1\n",
       "\n",
       "Residual standard error: 14.6 on 48 degrees of freedom\n",
       "Multiple R-squared:  0.6768,\tAdjusted R-squared:  0.6634 \n",
       "F-statistic: 50.26 on 2 and 48 DF,  p-value: 1.684e-12\n"
      ]
     },
     "metadata": {},
     "output_type": "display_data"
    }
   ],
   "source": [
    "mlr5 <- lm(ss1$totalfdr ~  ss1$Types.Lung.Total + ss1$Rates.Race.and.Sex.Female.Indigenous, data = ss1)\n",
    "mlr5\n",
    "summary(mlr5)"
   ]
  },
  {
   "cell_type": "code",
   "execution_count": null,
   "id": "a476ea31",
   "metadata": {},
   "outputs": [],
   "source": []
  }
 ],
 "metadata": {
  "kernelspec": {
   "display_name": "R",
   "language": "R",
   "name": "ir"
  },
  "language_info": {
   "codemirror_mode": "r",
   "file_extension": ".r",
   "mimetype": "text/x-r-source",
   "name": "R",
   "pygments_lexer": "r",
   "version": "3.6.1"
  }
 },
 "nbformat": 4,
 "nbformat_minor": 5
}
